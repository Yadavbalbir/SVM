{
 "cells": [
  {
   "cell_type": "code",
   "execution_count": 44,
   "id": "7a4857ca",
   "metadata": {},
   "outputs": [],
   "source": [
    "import pandas as pd\n",
    "import numpy as np\n",
    "from matplotlib import pyplot as plt"
   ]
  },
  {
   "cell_type": "code",
   "execution_count": 45,
   "id": "04f9076f",
   "metadata": {},
   "outputs": [],
   "source": [
    "df = pd.read_csv(\"Iris.csv\")"
   ]
  },
  {
   "cell_type": "code",
   "execution_count": 46,
   "id": "a234d849",
   "metadata": {},
   "outputs": [
    {
     "data": {
      "text/html": [
       "<div>\n",
       "<style scoped>\n",
       "    .dataframe tbody tr th:only-of-type {\n",
       "        vertical-align: middle;\n",
       "    }\n",
       "\n",
       "    .dataframe tbody tr th {\n",
       "        vertical-align: top;\n",
       "    }\n",
       "\n",
       "    .dataframe thead th {\n",
       "        text-align: right;\n",
       "    }\n",
       "</style>\n",
       "<table border=\"1\" class=\"dataframe\">\n",
       "  <thead>\n",
       "    <tr style=\"text-align: right;\">\n",
       "      <th></th>\n",
       "      <th>Id</th>\n",
       "      <th>SepalLengthCm</th>\n",
       "      <th>SepalWidthCm</th>\n",
       "      <th>PetalLengthCm</th>\n",
       "      <th>PetalWidthCm</th>\n",
       "      <th>Species</th>\n",
       "    </tr>\n",
       "  </thead>\n",
       "  <tbody>\n",
       "    <tr>\n",
       "      <th>0</th>\n",
       "      <td>1</td>\n",
       "      <td>5.1</td>\n",
       "      <td>3.5</td>\n",
       "      <td>1.4</td>\n",
       "      <td>0.2</td>\n",
       "      <td>Iris-setosa</td>\n",
       "    </tr>\n",
       "    <tr>\n",
       "      <th>1</th>\n",
       "      <td>2</td>\n",
       "      <td>4.9</td>\n",
       "      <td>3.0</td>\n",
       "      <td>1.4</td>\n",
       "      <td>0.2</td>\n",
       "      <td>Iris-setosa</td>\n",
       "    </tr>\n",
       "    <tr>\n",
       "      <th>2</th>\n",
       "      <td>3</td>\n",
       "      <td>4.7</td>\n",
       "      <td>3.2</td>\n",
       "      <td>1.3</td>\n",
       "      <td>0.2</td>\n",
       "      <td>Iris-setosa</td>\n",
       "    </tr>\n",
       "    <tr>\n",
       "      <th>3</th>\n",
       "      <td>4</td>\n",
       "      <td>4.6</td>\n",
       "      <td>3.1</td>\n",
       "      <td>1.5</td>\n",
       "      <td>0.2</td>\n",
       "      <td>Iris-setosa</td>\n",
       "    </tr>\n",
       "    <tr>\n",
       "      <th>4</th>\n",
       "      <td>5</td>\n",
       "      <td>5.0</td>\n",
       "      <td>3.6</td>\n",
       "      <td>1.4</td>\n",
       "      <td>0.2</td>\n",
       "      <td>Iris-setosa</td>\n",
       "    </tr>\n",
       "  </tbody>\n",
       "</table>\n",
       "</div>"
      ],
      "text/plain": [
       "   Id  SepalLengthCm  SepalWidthCm  PetalLengthCm  PetalWidthCm      Species\n",
       "0   1            5.1           3.5            1.4           0.2  Iris-setosa\n",
       "1   2            4.9           3.0            1.4           0.2  Iris-setosa\n",
       "2   3            4.7           3.2            1.3           0.2  Iris-setosa\n",
       "3   4            4.6           3.1            1.5           0.2  Iris-setosa\n",
       "4   5            5.0           3.6            1.4           0.2  Iris-setosa"
      ]
     },
     "execution_count": 46,
     "metadata": {},
     "output_type": "execute_result"
    }
   ],
   "source": [
    "df.head()"
   ]
  },
  {
   "cell_type": "code",
   "execution_count": 47,
   "id": "98c4097b",
   "metadata": {},
   "outputs": [],
   "source": [
    "df =df.drop('Id',axis=1)"
   ]
  },
  {
   "cell_type": "code",
   "execution_count": 48,
   "id": "09aaec5f",
   "metadata": {},
   "outputs": [
    {
     "data": {
      "text/html": [
       "<div>\n",
       "<style scoped>\n",
       "    .dataframe tbody tr th:only-of-type {\n",
       "        vertical-align: middle;\n",
       "    }\n",
       "\n",
       "    .dataframe tbody tr th {\n",
       "        vertical-align: top;\n",
       "    }\n",
       "\n",
       "    .dataframe thead th {\n",
       "        text-align: right;\n",
       "    }\n",
       "</style>\n",
       "<table border=\"1\" class=\"dataframe\">\n",
       "  <thead>\n",
       "    <tr style=\"text-align: right;\">\n",
       "      <th></th>\n",
       "      <th>SepalLengthCm</th>\n",
       "      <th>SepalWidthCm</th>\n",
       "      <th>PetalLengthCm</th>\n",
       "      <th>PetalWidthCm</th>\n",
       "      <th>Species</th>\n",
       "    </tr>\n",
       "  </thead>\n",
       "  <tbody>\n",
       "    <tr>\n",
       "      <th>0</th>\n",
       "      <td>5.1</td>\n",
       "      <td>3.5</td>\n",
       "      <td>1.4</td>\n",
       "      <td>0.2</td>\n",
       "      <td>Iris-setosa</td>\n",
       "    </tr>\n",
       "    <tr>\n",
       "      <th>1</th>\n",
       "      <td>4.9</td>\n",
       "      <td>3.0</td>\n",
       "      <td>1.4</td>\n",
       "      <td>0.2</td>\n",
       "      <td>Iris-setosa</td>\n",
       "    </tr>\n",
       "    <tr>\n",
       "      <th>2</th>\n",
       "      <td>4.7</td>\n",
       "      <td>3.2</td>\n",
       "      <td>1.3</td>\n",
       "      <td>0.2</td>\n",
       "      <td>Iris-setosa</td>\n",
       "    </tr>\n",
       "    <tr>\n",
       "      <th>3</th>\n",
       "      <td>4.6</td>\n",
       "      <td>3.1</td>\n",
       "      <td>1.5</td>\n",
       "      <td>0.2</td>\n",
       "      <td>Iris-setosa</td>\n",
       "    </tr>\n",
       "    <tr>\n",
       "      <th>4</th>\n",
       "      <td>5.0</td>\n",
       "      <td>3.6</td>\n",
       "      <td>1.4</td>\n",
       "      <td>0.2</td>\n",
       "      <td>Iris-setosa</td>\n",
       "    </tr>\n",
       "  </tbody>\n",
       "</table>\n",
       "</div>"
      ],
      "text/plain": [
       "   SepalLengthCm  SepalWidthCm  PetalLengthCm  PetalWidthCm      Species\n",
       "0            5.1           3.5            1.4           0.2  Iris-setosa\n",
       "1            4.9           3.0            1.4           0.2  Iris-setosa\n",
       "2            4.7           3.2            1.3           0.2  Iris-setosa\n",
       "3            4.6           3.1            1.5           0.2  Iris-setosa\n",
       "4            5.0           3.6            1.4           0.2  Iris-setosa"
      ]
     },
     "execution_count": 48,
     "metadata": {},
     "output_type": "execute_result"
    }
   ],
   "source": [
    "df.head()"
   ]
  },
  {
   "cell_type": "code",
   "execution_count": 49,
   "id": "b0e36660",
   "metadata": {},
   "outputs": [
    {
     "data": {
      "text/plain": [
       "145    Iris-virginica\n",
       "146    Iris-virginica\n",
       "147    Iris-virginica\n",
       "148    Iris-virginica\n",
       "149    Iris-virginica\n",
       "Name: Species, dtype: object"
      ]
     },
     "execution_count": 49,
     "metadata": {},
     "output_type": "execute_result"
    }
   ],
   "source": [
    "target= df['Species']\n",
    "target.tail()"
   ]
  },
  {
   "cell_type": "code",
   "execution_count": 50,
   "id": "0ded2eae",
   "metadata": {},
   "outputs": [
    {
     "data": {
      "text/plain": [
       "(150, 5)"
      ]
     },
     "execution_count": 50,
     "metadata": {},
     "output_type": "execute_result"
    }
   ],
   "source": [
    "df.shape"
   ]
  },
  {
   "cell_type": "code",
   "execution_count": 51,
   "id": "6ec5dfdb",
   "metadata": {},
   "outputs": [],
   "source": [
    "s = set()"
   ]
  },
  {
   "cell_type": "code",
   "execution_count": 52,
   "id": "78ba1ab3",
   "metadata": {},
   "outputs": [],
   "source": [
    "for val in target:\n",
    "    s.add(val)"
   ]
  },
  {
   "cell_type": "code",
   "execution_count": 53,
   "id": "ebd6da62",
   "metadata": {},
   "outputs": [],
   "source": [
    "s=list(s)"
   ]
  },
  {
   "cell_type": "code",
   "execution_count": 54,
   "id": "1891cc11",
   "metadata": {},
   "outputs": [
    {
     "data": {
      "text/plain": [
       "['Iris-versicolor', 'Iris-virginica', 'Iris-setosa']"
      ]
     },
     "execution_count": 54,
     "metadata": {},
     "output_type": "execute_result"
    }
   ],
   "source": [
    "s"
   ]
  },
  {
   "cell_type": "code",
   "execution_count": 55,
   "id": "c692371e",
   "metadata": {},
   "outputs": [],
   "source": [
    "# df1 = datasX.iloc[:, :72]"
   ]
  },
  {
   "cell_type": "code",
   "execution_count": 56,
   "id": "031556b9",
   "metadata": {},
   "outputs": [],
   "source": [
    "# df = df.drop( df.index[rows] )"
   ]
  },
  {
   "cell_type": "code",
   "execution_count": 57,
   "id": "9f5f77ad",
   "metadata": {},
   "outputs": [],
   "source": [
    "x = df['SepalLengthCm']\n",
    "y = df['PetalLengthCm']"
   ]
  },
  {
   "cell_type": "code",
   "execution_count": 58,
   "id": "cbe04824",
   "metadata": {},
   "outputs": [
    {
     "name": "stdout",
     "output_type": "stream",
     "text": [
      "0    5.1\n",
      "1    4.9\n",
      "2    4.7\n",
      "3    4.6\n",
      "4    5.0\n",
      "Name: SepalLengthCm, dtype: float64\n",
      "0    1.4\n",
      "1    1.4\n",
      "2    1.3\n",
      "3    1.5\n",
      "4    1.4\n",
      "Name: PetalLengthCm, dtype: float64\n"
     ]
    }
   ],
   "source": [
    "print(x.head())\n",
    "print(y.head())"
   ]
  },
  {
   "cell_type": "code",
   "execution_count": 59,
   "id": "be04032b",
   "metadata": {},
   "outputs": [],
   "source": [
    "setosa_x = x[:50]\n",
    "setosa_y = y[:50]"
   ]
  },
  {
   "cell_type": "code",
   "execution_count": 60,
   "id": "6362f5bf",
   "metadata": {},
   "outputs": [],
   "source": [
    "versicolor_x = x[50:100]\n",
    "versicolor_y = y[50:100]"
   ]
  },
  {
   "cell_type": "code",
   "execution_count": 61,
   "id": "ced63f75",
   "metadata": {},
   "outputs": [
    {
     "data": {
      "text/plain": [
       "<matplotlib.collections.PathCollection at 0x169e37d8c10>"
      ]
     },
     "execution_count": 61,
     "metadata": {},
     "output_type": "execute_result"
    },
    {
     "data": {
      "image/png": "[encoded data removed]",
      "text/plain": [
       "<Figure size 576x432 with 1 Axes>"
      ]
     },
     "metadata": {
      "needs_background": "light"
     },
     "output_type": "display_data"
    }
   ],
   "source": [
    "plt.figure(figsize=(8,6))\n",
    "plt.scatter(setosa_x, setosa_y, marker='+', color='green')\n",
    "plt.scatter(versicolor_x, versicolor_y, marker='_', color='red')"
   ]
  },
  {
   "cell_type": "code",
   "execution_count": 62,
   "id": "1a03c838",
   "metadata": {},
   "outputs": [],
   "source": [
    "df = df.drop(['SepalWidthCm','PetalWidthCm'],axis=1)"
   ]
  },
  {
   "cell_type": "code",
   "execution_count": 63,
   "id": "dc1d6298",
   "metadata": {},
   "outputs": [],
   "source": [
    "Y = []"
   ]
  },
  {
   "cell_type": "code",
   "execution_count": 64,
   "id": "be0d624c",
   "metadata": {},
   "outputs": [],
   "source": [
    "target = df['Species']"
   ]
  },
  {
   "cell_type": "code",
   "execution_count": 65,
   "id": "0978e770",
   "metadata": {},
   "outputs": [],
   "source": [
    "for val in target:\n",
    "    if(val=='Iris-setosa'):\n",
    "        Y.append(-1)\n",
    "    else:\n",
    "        Y.append(1)"
   ]
  },
  {
   "cell_type": "code",
   "execution_count": 66,
   "id": "05f4f689",
   "metadata": {},
   "outputs": [],
   "source": [
    "df = df.drop(['Species'], axis=1)"
   ]
  },
  {
   "cell_type": "code",
   "execution_count": 67,
   "id": "8174f2c8",
   "metadata": {},
   "outputs": [
    {
     "data": {
      "text/plain": [
       "[[5.1, 1.4],\n",
       " [4.9, 1.4],\n",
       " [4.7, 1.3],\n",
       " [4.6, 1.5],\n",
       " [5.0, 1.4],\n",
       " [5.4, 1.7],\n",
       " [4.6, 1.4],\n",
       " [5.0, 1.5],\n",
       " [4.4, 1.4],\n",
       " [4.9, 1.5],\n",
       " [5.4, 1.5],\n",
       " [4.8, 1.6],\n",
       " [4.8, 1.4],\n",
       " [4.3, 1.1],\n",
       " [5.8, 1.2],\n",
       " [5.7, 1.5],\n",
       " [5.4, 1.3],\n",
       " [5.1, 1.4],\n",
       " [5.7, 1.7],\n",
       " [5.1, 1.5],\n",
       " [5.4, 1.7],\n",
       " [5.1, 1.5],\n",
       " [4.6, 1.0],\n",
       " [5.1, 1.7],\n",
       " [4.8, 1.9],\n",
       " [5.0, 1.6],\n",
       " [5.0, 1.6],\n",
       " [5.2, 1.5],\n",
       " [5.2, 1.4],\n",
       " [4.7, 1.6],\n",
       " [4.8, 1.6],\n",
       " [5.4, 1.5],\n",
       " [5.2, 1.5],\n",
       " [5.5, 1.4],\n",
       " [4.9, 1.5],\n",
       " [5.0, 1.2],\n",
       " [5.5, 1.3],\n",
       " [4.9, 1.5],\n",
       " [4.4, 1.3],\n",
       " [5.1, 1.5],\n",
       " [5.0, 1.3],\n",
       " [4.5, 1.3],\n",
       " [4.4, 1.3],\n",
       " [5.0, 1.6],\n",
       " [5.1, 1.9],\n",
       " [4.8, 1.4],\n",
       " [5.1, 1.6],\n",
       " [4.6, 1.4],\n",
       " [5.3, 1.5],\n",
       " [5.0, 1.4],\n",
       " [7.0, 4.7],\n",
       " [6.4, 4.5],\n",
       " [6.9, 4.9],\n",
       " [5.5, 4.0],\n",
       " [6.5, 4.6],\n",
       " [5.7, 4.5],\n",
       " [6.3, 4.7],\n",
       " [4.9, 3.3],\n",
       " [6.6, 4.6],\n",
       " [5.2, 3.9],\n",
       " [5.0, 3.5],\n",
       " [5.9, 4.2],\n",
       " [6.0, 4.0],\n",
       " [6.1, 4.7],\n",
       " [5.6, 3.6],\n",
       " [6.7, 4.4],\n",
       " [5.6, 4.5],\n",
       " [5.8, 4.1],\n",
       " [6.2, 4.5],\n",
       " [5.6, 3.9],\n",
       " [5.9, 4.8],\n",
       " [6.1, 4.0],\n",
       " [6.3, 4.9],\n",
       " [6.1, 4.7],\n",
       " [6.4, 4.3],\n",
       " [6.6, 4.4],\n",
       " [6.8, 4.8],\n",
       " [6.7, 5.0],\n",
       " [6.0, 4.5],\n",
       " [5.7, 3.5],\n",
       " [5.5, 3.8],\n",
       " [5.5, 3.7],\n",
       " [5.8, 3.9],\n",
       " [6.0, 5.1],\n",
       " [5.4, 4.5],\n",
       " [6.0, 4.5],\n",
       " [6.7, 4.7],\n",
       " [6.3, 4.4],\n",
       " [5.6, 4.1],\n",
       " [5.5, 4.0],\n",
       " [5.5, 4.4],\n",
       " [6.1, 4.6],\n",
       " [5.8, 4.0],\n",
       " [5.0, 3.3],\n",
       " [5.6, 4.2],\n",
       " [5.7, 4.2],\n",
       " [5.7, 4.2],\n",
       " [6.2, 4.3],\n",
       " [5.1, 3.0],\n",
       " [5.7, 4.1],\n",
       " [6.3, 6.0],\n",
       " [5.8, 5.1],\n",
       " [7.1, 5.9],\n",
       " [6.3, 5.6],\n",
       " [6.5, 5.8],\n",
       " [7.6, 6.6],\n",
       " [4.9, 4.5],\n",
       " [7.3, 6.3],\n",
       " [6.7, 5.8],\n",
       " [7.2, 6.1],\n",
       " [6.5, 5.1],\n",
       " [6.4, 5.3],\n",
       " [6.8, 5.5],\n",
       " [5.7, 5.0],\n",
       " [5.8, 5.1],\n",
       " [6.4, 5.3],\n",
       " [6.5, 5.5],\n",
       " [7.7, 6.7],\n",
       " [7.7, 6.9],\n",
       " [6.0, 5.0],\n",
       " [6.9, 5.7],\n",
       " [5.6, 4.9],\n",
       " [7.7, 6.7],\n",
       " [6.3, 4.9],\n",
       " [6.7, 5.7],\n",
       " [7.2, 6.0],\n",
       " [6.2, 4.8],\n",
       " [6.1, 4.9],\n",
       " [6.4, 5.6],\n",
       " [7.2, 5.8],\n",
       " [7.4, 6.1],\n",
       " [7.9, 6.4],\n",
       " [6.4, 5.6],\n",
       " [6.3, 5.1],\n",
       " [6.1, 5.6],\n",
       " [7.7, 6.1],\n",
       " [6.3, 5.6],\n",
       " [6.4, 5.5],\n",
       " [6.0, 4.8],\n",
       " [6.9, 5.4],\n",
       " [6.7, 5.6],\n",
       " [6.9, 5.1],\n",
       " [5.8, 5.1],\n",
       " [6.8, 5.9],\n",
       " [6.7, 5.7],\n",
       " [6.7, 5.2],\n",
       " [6.3, 5.0],\n",
       " [6.5, 5.2],\n",
       " [6.2, 5.4],\n",
       " [5.9, 5.1]]"
      ]
     },
     "execution_count": 67,
     "metadata": {},
     "output_type": "execute_result"
    }
   ],
   "source": [
    "X = df.values.tolist()\n",
    "X"
   ]
  },
  {
   "cell_type": "code",
   "execution_count": 68,
   "id": "c338d033",
   "metadata": {},
   "outputs": [
    {
     "data": {
      "text/plain": [
       "[[5.5, 1.3],\n",
       " [5.8, 4.1],\n",
       " [6.1, 4.7],\n",
       " [6.1, 5.6],\n",
       " [6.3, 5.6],\n",
       " [4.4, 1.4],\n",
       " [6.4, 5.6],\n",
       " [6.7, 5.8],\n",
       " [6.4, 4.3],\n",
       " [5.0, 1.4],\n",
       " [4.4, 1.3],\n",
       " [7.2, 6.1],\n",
       " [7.3, 6.3],\n",
       " [4.9, 3.3],\n",
       " [7.1, 5.9],\n",
       " [6.3, 4.4],\n",
       " [4.9, 1.5],\n",
       " [5.0, 1.4],\n",
       " [5.1, 3.0],\n",
       " [5.2, 1.5],\n",
       " [6.9, 5.7],\n",
       " [6.7, 5.6],\n",
       " [7.2, 6.0],\n",
       " [6.2, 5.4],\n",
       " [7.0, 4.7],\n",
       " [6.2, 4.3],\n",
       " [5.2, 1.5],\n",
       " [6.0, 5.1],\n",
       " [6.1, 4.9],\n",
       " [5.0, 1.6],\n",
       " [5.0, 1.5],\n",
       " [5.6, 4.2],\n",
       " [6.2, 4.8],\n",
       " [5.0, 1.2],\n",
       " [6.6, 4.6],\n",
       " [7.4, 6.1],\n",
       " [5.1, 1.9],\n",
       " [4.9, 1.4],\n",
       " [4.9, 1.5],\n",
       " [6.3, 4.7],\n",
       " [6.5, 4.6],\n",
       " [4.5, 1.3],\n",
       " [5.7, 3.5],\n",
       " [6.8, 5.9],\n",
       " [6.1, 4.7],\n",
       " [6.6, 4.4],\n",
       " [5.9, 5.1],\n",
       " [4.8, 1.4],\n",
       " [6.5, 5.5],\n",
       " [5.5, 1.4],\n",
       " [7.7, 6.1],\n",
       " [5.5, 4.4],\n",
       " [5.1, 1.7],\n",
       " [5.4, 1.3],\n",
       " [5.9, 4.8],\n",
       " [4.9, 4.5],\n",
       " [6.9, 5.4],\n",
       " [5.8, 5.1],\n",
       " [4.3, 1.1],\n",
       " [5.0, 1.6],\n",
       " [5.1, 1.5],\n",
       " [5.8, 5.1],\n",
       " [6.4, 5.6],\n",
       " [7.9, 6.4],\n",
       " [5.8, 3.9],\n",
       " [5.8, 5.1],\n",
       " [6.8, 4.8],\n",
       " [5.5, 3.7],\n",
       " [4.6, 1.0],\n",
       " [6.4, 5.3],\n",
       " [5.5, 3.8],\n",
       " [5.9, 4.2],\n",
       " [6.8, 5.5],\n",
       " [5.0, 1.6],\n",
       " [5.2, 1.4],\n",
       " [5.1, 1.4],\n",
       " [6.4, 5.3],\n",
       " [4.6, 1.4],\n",
       " [5.6, 4.1],\n",
       " [7.7, 6.9],\n",
       " [6.7, 4.4],\n",
       " [6.3, 5.0],\n",
       " [7.7, 6.7],\n",
       " [6.3, 4.9],\n",
       " [4.6, 1.4],\n",
       " [5.7, 1.5],\n",
       " [4.9, 1.5],\n",
       " [5.7, 4.2],\n",
       " [4.7, 1.6],\n",
       " [7.6, 6.6],\n",
       " [4.8, 1.9],\n",
       " [6.4, 5.5],\n",
       " [6.0, 5.0],\n",
       " [5.6, 4.9],\n",
       " [6.0, 4.5],\n",
       " [5.4, 1.5],\n",
       " [6.7, 5.0],\n",
       " [5.7, 4.1],\n",
       " [5.7, 4.2],\n",
       " [6.9, 5.1],\n",
       " [6.5, 5.2],\n",
       " [5.2, 3.9],\n",
       " [5.1, 1.5],\n",
       " [6.2, 4.5],\n",
       " [6.4, 4.5],\n",
       " [5.1, 1.5],\n",
       " [6.3, 5.6],\n",
       " [5.6, 4.5],\n",
       " [6.3, 4.9],\n",
       " [5.4, 1.7],\n",
       " [4.8, 1.4],\n",
       " [6.5, 5.8],\n",
       " [5.4, 4.5],\n",
       " [6.5, 5.1],\n",
       " [5.4, 1.5],\n",
       " [6.0, 4.8],\n",
       " [6.7, 4.7],\n",
       " [4.4, 1.3],\n",
       " [5.4, 1.7],\n",
       " [4.7, 1.3],\n",
       " [6.3, 5.1],\n",
       " [7.7, 6.7],\n",
       " [6.3, 6.0],\n",
       " [5.8, 4.0],\n",
       " [4.8, 1.6],\n",
       " [5.0, 1.3],\n",
       " [6.0, 4.0],\n",
       " [5.5, 4.0],\n",
       " [5.6, 3.9],\n",
       " [6.1, 4.6],\n",
       " [5.0, 3.3],\n",
       " [5.7, 5.0],\n",
       " [6.7, 5.7],\n",
       " [5.3, 1.5],\n",
       " [5.7, 1.7],\n",
       " [5.6, 3.6],\n",
       " [4.8, 1.6],\n",
       " [6.9, 4.9],\n",
       " [6.7, 5.7],\n",
       " [5.8, 1.2],\n",
       " [5.0, 3.5],\n",
       " [5.1, 1.4],\n",
       " [5.5, 4.0],\n",
       " [7.2, 5.8],\n",
       " [6.1, 4.0],\n",
       " [6.0, 4.5],\n",
       " [5.1, 1.6],\n",
       " [4.6, 1.5],\n",
       " [6.7, 5.2],\n",
       " [5.7, 4.5]]"
      ]
     },
     "execution_count": 68,
     "metadata": {},
     "output_type": "execute_result"
    }
   ],
   "source": [
    "from sklearn.utils import shuffle\n",
    "from sklearn.model_selection import train_test_split\n",
    "X, Y = shuffle(X,Y)\n",
    "X"
   ]
  },
  {
   "cell_type": "code",
   "execution_count": 69,
   "id": "c6575ebc",
   "metadata": {},
   "outputs": [],
   "source": [
    "x_train = []\n",
    "y_train = []\n",
    "x_test = []\n",
    "y_test = []"
   ]
  },
  {
   "cell_type": "code",
   "execution_count": 70,
   "id": "0f0c967d",
   "metadata": {},
   "outputs": [],
   "source": [
    "x_train, x_test, y_train, y_test = train_test_split(X,Y, train_size=0.8)"
   ]
  },
  {
   "cell_type": "code",
   "execution_count": 71,
   "id": "e81125d2",
   "metadata": {},
   "outputs": [],
   "source": [
    "x_train = np.array(x_train)\n",
    "y_train = np.array(y_train)\n",
    "x_test = np.array(x_test)\n",
    "y_test = np.array(y_test)"
   ]
  },
  {
   "cell_type": "code",
   "execution_count": 72,
   "id": "a1829af8",
   "metadata": {},
   "outputs": [
    {
     "data": {
      "text/plain": [
       "(120, 2)"
      ]
     },
     "execution_count": 72,
     "metadata": {},
     "output_type": "execute_result"
    }
   ],
   "source": [
    "x_train.shape"
   ]
  },
  {
   "cell_type": "code",
   "execution_count": 73,
   "id": "d22fe8dc",
   "metadata": {},
   "outputs": [],
   "source": [
    "y_train = y_train.reshape(120,1)\n",
    "y_test = y_test.reshape(30,1)\n"
   ]
  },
  {
   "cell_type": "code",
   "execution_count": 74,
   "id": "8f5f03f6",
   "metadata": {},
   "outputs": [
    {
     "name": "stdout",
     "output_type": "stream",
     "text": [
      "x_train.shape: (120, 2)\n",
      "x_test.shape: (30, 2)\n",
      "y_train.shape: (120, 1)\n",
      "y_test.shape: (30, 1)\n"
     ]
    }
   ],
   "source": [
    "print(\"x_train.shape:\", x_train.shape)\n",
    "print(\"x_test.shape:\", x_test.shape)\n",
    "print(\"y_train.shape:\", y_train.shape)\n",
    "print(\"y_test.shape:\", y_test.shape)"
   ]
  },
  {
   "cell_type": "markdown",
   "id": "fd47eb29",
   "metadata": {},
   "source": [
    "### Support Vector Machine "
   ]
  },
  {
   "cell_type": "code",
   "execution_count": 75,
   "id": "38f0e303",
   "metadata": {},
   "outputs": [],
   "source": [
    "train_f1 = x_train[:,0]\n",
    "train_f2 = x_train[:,1]"
   ]
  },
  {
   "cell_type": "code",
   "execution_count": 76,
   "id": "c5250712",
   "metadata": {},
   "outputs": [],
   "source": [
    "train_f1 = train_f1.reshape(120,1)\n",
    "train_f2 = train_f2.reshape(120,1)"
   ]
  },
  {
   "cell_type": "code",
   "execution_count": 77,
   "id": "a6038607",
   "metadata": {},
   "outputs": [],
   "source": [
    "w1 = np.zeros((120,1))\n",
    "w2 = np.zeros((120,1))"
   ]
  },
  {
   "cell_type": "code",
   "execution_count": 78,
   "id": "7be527b2",
   "metadata": {},
   "outputs": [],
   "source": [
    "epochs = 1"
   ]
  },
  {
   "cell_type": "code",
   "execution_count": 79,
   "id": "db40b903",
   "metadata": {},
   "outputs": [],
   "source": [
    "alpha = 0.0001"
   ]
  },
  {
   "cell_type": "code",
   "execution_count": 80,
   "id": "f4296d2f",
   "metadata": {},
   "outputs": [],
   "source": [
    "while(epochs < 10000):\n",
    "    y = w1 * train_f1 + w2 * train_f2\n",
    "    prod = y * y_train\n",
    "    count = 0\n",
    "    for val in prod:\n",
    "        if(val>=1):\n",
    "            cost = 0\n",
    "            w1 = w1 - alpha* (2 * 1/epochs * w1)\n",
    "            w2 = w2 - alpha* (2 * 1/epochs * w2)\n",
    "        \n",
    "        else:\n",
    "            cost = 1 - val\n",
    "            w1 = w1 + alpha * (train_f1[count]*y_train[count]-2*1/epochs*w1)\n",
    "            w2 = w2 + alpha * (train_f2[count]*y_train[count]-2*1/epochs*w2)\n",
    "        count +=1\n",
    "    \n",
    "    epochs+=1"
   ]
  },
  {
   "cell_type": "code",
   "execution_count": 81,
   "id": "48c75d1a",
   "metadata": {},
   "outputs": [],
   "source": [
    "from sklearn.metrics import accuracy_score"
   ]
  },
  {
   "cell_type": "code",
   "execution_count": 82,
   "id": "b74fa003",
   "metadata": {},
   "outputs": [],
   "source": [
    "index = list(range(30,120))"
   ]
  },
  {
   "cell_type": "code",
   "execution_count": 83,
   "id": "e75bf308",
   "metadata": {},
   "outputs": [],
   "source": [
    "w1 = np.delete(w1,index)\n",
    "w2 = np.delete(w2, index)\n",
    "\n",
    "w1 = w1.reshape(30,1)\n",
    "w2 = w2.reshape(30,1)"
   ]
  },
  {
   "cell_type": "code",
   "execution_count": 84,
   "id": "b856c29a",
   "metadata": {},
   "outputs": [],
   "source": [
    "test_f1 = x_test[:,0]\n",
    "test_f2 = x_test[:,1]"
   ]
  },
  {
   "cell_type": "code",
   "execution_count": 85,
   "id": "d35326f7",
   "metadata": {},
   "outputs": [],
   "source": [
    "test_f1 = test_f1.reshape(30,1)\n",
    "test_f2 = test_f2.reshape(30,1)"
   ]
  },
  {
   "cell_type": "code",
   "execution_count": 86,
   "id": "719dc871",
   "metadata": {},
   "outputs": [],
   "source": [
    "y_pred = w1*test_f1 + w2*test_f2"
   ]
  },
  {
   "cell_type": "code",
   "execution_count": 87,
   "id": "e1b137e0",
   "metadata": {},
   "outputs": [],
   "source": [
    "predictions = []\n",
    "for val in y_pred:\n",
    "    if(val>1):\n",
    "        predictions.append(1)\n",
    "    else:\n",
    "        predictions.append(-1)"
   ]
  },
  {
   "cell_type": "code",
   "execution_count": 88,
   "id": "d5d7c73c",
   "metadata": {},
   "outputs": [
    {
     "name": "stdout",
     "output_type": "stream",
     "text": [
      "1.0\n"
     ]
    }
   ],
   "source": [
    "print(accuracy_score(y_test,predictions))"
   ]
  },
  {
   "cell_type": "markdown",
   "id": "cb96fea5",
   "metadata": {},
   "source": [
    "### Using Scikit learn Library "
   ]
  },
  {
   "cell_type": "code",
   "execution_count": 89,
   "id": "80b58e41",
   "metadata": {},
   "outputs": [
    {
     "name": "stdout",
     "output_type": "stream",
     "text": [
      "1.0\n"
     ]
    },
    {
     "name": "stderr",
     "output_type": "stream",
     "text": [
      "C:\\Users\\Balbir Yadav\\anaconda3\\lib\\site-packages\\sklearn\\utils\\validation.py:63: DataConversionWarning: A column-vector y was passed when a 1d array was expected. Please change the shape of y to (n_samples, ), for example using ravel().\n",
      "  return f(*args, **kwargs)\n"
     ]
    }
   ],
   "source": [
    "from sklearn.svm import SVC\n",
    "from sklearn.metrics import accuracy_score\n",
    "\n",
    "clf = SVC(kernel='linear')\n",
    "clf.fit(x_train,y_train)\n",
    "y_pred = clf.predict(x_test)\n",
    "print(accuracy_score(y_test,y_pred))"
   ]
  },
  {
   "cell_type": "code",
   "execution_count": null,
   "id": "3d7963fe",
   "metadata": {},
   "outputs": [],
   "source": []
  }
 ],
 "metadata": {
  "kernelspec": {
   "display_name": "Python 3",
   "language": "python",
   "name": "python3"
  },
  "language_info": {
   "codemirror_mode": {
    "name": "ipython",
    "version": 3
   },
   "file_extension": ".py",
   "mimetype": "text/x-python",
   "name": "python",
   "nbconvert_exporter": "python",
   "pygments_lexer": "ipython3",
   "version": "3.8.8"
  }
 },
 "nbformat": 4,
 "nbformat_minor": 5
}
